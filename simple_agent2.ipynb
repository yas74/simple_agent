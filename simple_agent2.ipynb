{
 "cells": [
  {
   "cell_type": "markdown",
   "id": "87f36a6c",
   "metadata": {},
   "source": [
    "\n",
    "# 🧠 Simple Business Intelligence Agent with LangGraph\n",
    "\n",
    "This notebook builds a LangGraph-based AI agent that:\n",
    "- Analyzes sales, cost, and customer data\n",
    "- Calculates profit, CAC, and trends\n",
    "- Uses OpenAI GPT to generate business recommendations\n",
    "\n",
    "---\n",
    "\n",
    "> ⚠️ **Note:** This notebook uses OpenAI's GPT model. You need to set your OpenAI API key to run it:\n",
    "```python\n",
    "import os\n",
    "os.environ[\"OPENAI_API_KEY\"] = \"sk-...\"  # Replace with your key\n",
    "```\n",
    "\n",
    "Due to billing limitations, this notebook has not been executed, but all logic and structure is complete and test-ready.\n"
   ]
  },
  {
   "cell_type": "code",
   "execution_count": null,
   "metadata": {
    "id": "vxolR8PsQdOa"
   },
   "outputs": [],
   "source": [
    "!pip install -U langgraph langchain openai langchain-openai\n"
   ]
  },
  {
   "cell_type": "code",
   "execution_count": null,
   "metadata": {
    "id": "GK3M500gR7si"
   },
   "outputs": [],
   "source": [
    "import os\n",
    "\n",
    "if \"OPENAI_API_KEY\" not in os.environ:\n",
    "    os.environ[\"OPENAI_API_KEY\"] = input(\"Enter your OpenAI API key: \")\n"
   ]
  },
  {
   "cell_type": "code",
   "execution_count": 5,
   "metadata": {
    "id": "HeN4S5PRTikZ"
   },
   "outputs": [],
   "source": [
    "from langchain_openai import ChatOpenAI\n",
    "from langgraph.graph import StateGraph, END\n",
    "from typing import TypedDict, List, Optional\n",
    "from datetime import datetime\n"
   ]
  },
  {
   "cell_type": "code",
   "execution_count": 6,
   "metadata": {
    "id": "DwfYrUu1TuBZ"
   },
   "outputs": [],
   "source": [
    "# 📊 Define state for the agent\n",
    "class BusinessData(TypedDict):\n",
    "    today_revenue: float\n",
    "    today_cost: float\n",
    "    today_customers: int\n",
    "    yesterday_revenue: float\n",
    "    yesterday_cost: float\n",
    "    yesterday_customers: int\n",
    "\n",
    "class AgentState(TypedDict, total=False):\n",
    "    input_data: BusinessData\n",
    "    profit: float\n",
    "    cac_today: float\n",
    "    cac_change_percent: float\n",
    "    revenue_change_percent: float\n",
    "    cost_change_percent: float\n",
    "    alerts: List[str]\n",
    "    recommendations: Optional[str]\n"
   ]
  },
  {
   "cell_type": "code",
   "execution_count": 7,
   "metadata": {
    "id": "elzvZdInT9fg"
   },
   "outputs": [],
   "source": [
    "# 🔁 Input Node\n",
    "def input_node(state: AgentState) -> AgentState:\n",
    "    return state\n"
   ]
  },
  {
   "cell_type": "code",
   "execution_count": 8,
   "metadata": {
    "id": "ZH7zFxbgUDgQ"
   },
   "outputs": [],
   "source": [
    "# 🧠 Processing Node\n",
    "def processing_node(state: AgentState) -> AgentState:\n",
    "    data = state['input_data']\n",
    "    profit = data['today_revenue'] - data['today_cost']\n",
    "\n",
    "    cac_today = data['today_cost'] / data['today_customers'] if data['today_customers'] else 0\n",
    "    cac_yesterday = data['yesterday_cost'] / data['yesterday_customers'] if data['yesterday_customers'] else 0\n",
    "\n",
    "    cac_change = ((cac_today - cac_yesterday) / cac_yesterday) * 100 if cac_yesterday else 0\n",
    "    revenue_change = ((data['today_revenue'] - data['yesterday_revenue']) / data['yesterday_revenue']) * 100 if data['yesterday_revenue'] else 0\n",
    "    cost_change = ((data['today_cost'] - data['yesterday_cost']) / data['yesterday_cost']) * 100 if data['yesterday_cost'] else 0\n",
    "\n",
    "    alerts = []\n",
    "    if profit < 0:\n",
    "        alerts.append(\"⚠️ Negative profit today.\")\n",
    "    if cac_change > 20:\n",
    "        alerts.append(\"⚠️ CAC increased by more than 20%.\")\n",
    "\n",
    "    return {\n",
    "        **state,\n",
    "        \"profit\": profit,\n",
    "        \"cac_today\": cac_today,\n",
    "        \"cac_change_percent\": cac_change,\n",
    "        \"revenue_change_percent\": revenue_change,\n",
    "        \"cost_change_percent\": cost_change,\n",
    "        \"alerts\": alerts,\n",
    "    }\n"
   ]
  },
  {
   "cell_type": "code",
   "execution_count": 9,
   "metadata": {
    "id": "ed5N36mIUIxF"
   },
   "outputs": [],
   "source": [
    "# 💬 Recommendation Node (uses OpenAI)\n",
    "llm = ChatOpenAI(model=\"gpt-3.5-turbo\", temperature=0.3)\n",
    "\n",
    "def recommendation_node(state: AgentState) -> AgentState:\n",
    "    summary = f\"\"\"\n",
    "Today’s profit is {state['profit']:.2f}.\n",
    "Revenue changed by {state['revenue_change_percent']:.2f}%.\n",
    "Cost changed by {state['cost_change_percent']:.2f}%.\n",
    "CAC is {state['cac_today']:.2f} ({state['cac_change_percent']:.2f}% change).\n",
    "Alerts: {', '.join(state['alerts']) if state['alerts'] else 'None'}.\n",
    "\"\"\"\n",
    "    prompt = f\"\"\"\n",
    "Given the following business summary, provide concise, actionable recommendations:\n",
    "\n",
    "{summary}\n",
    "\n",
    "Answer in 2-3 short bullet points.\n",
    "\"\"\"\n",
    "\n",
    "    result = llm.invoke(prompt)\n",
    "    return {\n",
    "        **state,\n",
    "        \"recommendations\": result.content.strip()\n",
    "    }\n"
   ]
  },
  {
   "cell_type": "code",
   "execution_count": 10,
   "metadata": {
    "id": "eKH240xkUOrP"
   },
   "outputs": [],
   "source": [
    "# 🔧 Build the LangGraph\n",
    "builder = StateGraph(AgentState)\n",
    "builder.add_node(\"input\", input_node)\n",
    "builder.add_node(\"process\", processing_node)\n",
    "builder.add_node(\"recommend\", recommendation_node)\n",
    "\n",
    "builder.set_entry_point(\"input\")\n",
    "builder.add_edge(\"input\", \"process\")\n",
    "builder.add_edge(\"process\", \"recommend\")\n",
    "builder.add_edge(\"recommend\", END)\n",
    "\n",
    "graph = builder.compile()\n"
   ]
  },
  {
   "cell_type": "code",
   "execution_count": null,
   "metadata": {
    "id": "7PQlbSH6UZtR"
   },
   "outputs": [],
   "source": [
    "# 🚀 Run the agent with sample input\n",
    "input_data = {\n",
    "    \"input_data\": {\n",
    "        \"today_revenue\": 1500,\n",
    "        \"today_cost\": 1000,\n",
    "        \"today_customers\": 50,\n",
    "        \"yesterday_revenue\": 1000,\n",
    "        \"yesterday_cost\": 700,\n",
    "        \"yesterday_customers\": 50,\n",
    "    }\n",
    "}\n",
    "\n",
    "result = graph.invoke(input_data)\n",
    "\n",
    "import json\n",
    "print(json.dumps(result, indent=2))\n"
   ]
  },
  {
   "cell_type": "code",
   "execution_count": null,
   "metadata": {
    "id": "3pq0xzvXUa0q"
   },
   "outputs": [],
   "source": [
    "# ✅ Simple test\n",
    "def test_agent():\n",
    "    out = graph.invoke({\n",
    "        \"input_data\": {\n",
    "            \"today_revenue\": 500,\n",
    "            \"today_cost\": 800,\n",
    "            \"today_customers\": 20,\n",
    "            \"yesterday_revenue\": 1000,\n",
    "            \"yesterday_cost\": 600,\n",
    "            \"yesterday_customers\": 30,\n",
    "        }\n",
    "    })\n",
    "\n",
    "    assert \"profit\" in out\n",
    "    assert \"recommendations\" in out\n",
    "    assert isinstance(out[\"recommendations\"], str)\n",
    "    assert out[\"profit\"] == -300\n",
    "    print(\"✅ Test passed!\")\n",
    "\n",
    "test_agent()\n"
   ]
  },
  {
   "cell_type": "code",
   "execution_count": null,
   "metadata": {
    "id": "QNzot6pjUe_P"
   },
   "outputs": [],
   "source": []
  },
  {
   "cell_type": "markdown",
   "id": "483756b1",
   "metadata": {},
   "source": [
    "\n",
    "## 🧾 Sample Expected Output\n",
    "\n",
    "```json\n",
    "{\n",
    "  \"profit\": 500.0,\n",
    "  \"cac_today\": 20.0,\n",
    "  \"cac_change_percent\": 25.0,\n",
    "  \"revenue_change_percent\": 50.0,\n",
    "  \"cost_change_percent\": 42.86,\n",
    "  \"alerts\": [\n",
    "    \"⚠️ CAC increased by more than 20%\"\n",
    "  ],\n",
    "  \"recommendations\": \"- Monitor CAC trends.\\n- Reallocate budget to high-performing ads.\"\n",
    "}\n",
    "```\n"
   ]
  }
 ],
 "metadata": {
  "colab": {
   "provenance": []
  },
  "kernelspec": {
   "display_name": "Python 3",
   "name": "python3"
  },
  "language_info": {
   "name": "python"
  }
 },
 "nbformat": 4,
 "nbformat_minor": 0
}
